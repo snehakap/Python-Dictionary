{
  "nbformat": 4,
  "nbformat_minor": 0,
  "metadata": {
    "colab": {
      "provenance": [],
      "authorship_tag": "ABX9TyO/R/UDMXSSrZa/F1hBfo4H",
      "include_colab_link": true
    },
    "kernelspec": {
      "name": "python3",
      "display_name": "Python 3"
    },
    "language_info": {
      "name": "python"
    }
  },
  "cells": [
    {
      "cell_type": "markdown",
      "metadata": {
        "id": "view-in-github",
        "colab_type": "text"
      },
      "source": [
        "<a href=\"https://colab.research.google.com/github/snehakap/Python-Dictionary/blob/main/Search_word_in_Dictionary.ipynb\" target=\"_parent\"><img src=\"https://colab.research.google.com/assets/colab-badge.svg\" alt=\"Open In Colab\"/></a>"
      ]
    },
    {
      "cell_type": "code",
      "source": [
        "# Importing libraries.\n",
        "import json\n",
        "from difflib import get_close_matches"
      ],
      "metadata": {
        "id": "y9FAQymYPffd"
      },
      "execution_count": null,
      "outputs": []
    },
    {
      "cell_type": "code",
      "execution_count": null,
      "metadata": {
        "id": "3OjjN12sPJ0q"
      },
      "outputs": [],
      "source": [
        "# Load data into JSON file in python dictionary.\n",
        "Data= json.load(open(\"data.json\"))"
      ]
    },
    {
      "cell_type": "code",
      "source": [
        "# Search for the meaning of a word in the dictionary.\n",
        "def search(word):\n",
        "  if word in Data:\n",
        "    return Data[word]\n",
        "  elif len(get_close_matches(word, Data.keys())) > 0:\n",
        "    print(\"Did you mean %s instead\" %get_close_matches(word,Data.keys())[0])\n",
        "    decide = input(\"Press Y for yes and N for no\")\n",
        "    if decide == \"Y\":\n",
        "      return Data(get_close_matches(word, Data.keys())[0])\n",
        "    elif decide == \"N\":\n",
        "      return \"Please check and enter the word again\"\n",
        "    else:\n",
        "      return \"You have entered wrong input please enter just Y or N \"\n",
        "  else:\n",
        "    return \"The word does not exist in dictionary\""
      ],
      "metadata": {
        "id": "kJicpzQhQPFK"
      },
      "execution_count": null,
      "outputs": []
    },
    {
      "cell_type": "code",
      "source": [
        " # Input from the user to search for a word and display the result.\n",
        "word= input(\"Enter a word to search its meaning \").lower()\n",
        "print(search(word))"
      ],
      "metadata": {
        "colab": {
          "base_uri": "https://localhost:8080/"
        },
        "id": "Pz4VefM3P9S2",
        "outputId": "e9f3af05-3a6e-4a35-fab5-a825d80ed95c"
      },
      "execution_count": null,
      "outputs": [
        {
          "output_type": "stream",
          "name": "stdout",
          "text": [
            "Enter a word to search its meaning City\n",
            "['Term used generically today to denote any urban form but applied particularly to large urban settlements. There are, however, no agreed definitions to separate a city from the large metropolis or the smaller town.']\n"
          ]
        }
      ]
    }
  ]
}